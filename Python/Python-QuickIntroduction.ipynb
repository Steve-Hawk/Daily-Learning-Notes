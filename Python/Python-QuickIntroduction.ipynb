{
 "cells": [
  {
   "cell_type": "markdown",
   "metadata": {},
   "source": [
    "# Python 快速入门\n",
    "\n",
    "## Python基础"
   ]
  },
  {
   "cell_type": "markdown",
   "metadata": {},
   "source": [
    "- 格式化字符串的使用：\n",
    "    1. %\n",
    "    2. .format()方法的使用"
   ]
  },
  {
   "cell_type": "code",
   "execution_count": 1,
   "metadata": {},
   "outputs": [
    {
     "name": "stdout",
     "output_type": "stream",
     "text": [
      "There are some fruits: apple, pear, banana\n"
     ]
    }
   ],
   "source": [
    "print(\"There are some fruits: %s, %s, %s\" % (\"apple\", \"pear\", \"banana\"))"
   ]
  },
  {
   "cell_type": "code",
   "execution_count": 2,
   "metadata": {},
   "outputs": [
    {
     "name": "stdout",
     "output_type": "stream",
     "text": [
      "There are some fruits: apple, pear,banana\n"
     ]
    }
   ],
   "source": [
    "print(\"There are some fruits: {0}, {1},{2}\".format(\"apple\",\"pear\",\"banana\"))"
   ]
  },
  {
   "cell_type": "markdown",
   "metadata": {},
   "source": [
    "- Python中的布尔值只有两种情况：```True``` . ```False```"
   ]
  },
  {
   "cell_type": "code",
   "execution_count": 17,
   "metadata": {},
   "outputs": [
    {
     "data": {
      "text/plain": [
       "bool"
      ]
     },
     "execution_count": 17,
     "metadata": {},
     "output_type": "execute_result"
    }
   ],
   "source": [
    "type(True) # 使用函数type()判断某个对象的数据类型"
   ]
  },
  {
   "cell_type": "markdown",
   "metadata": {},
   "source": [
    "- None作为Python中特殊的数据类型，是一个特殊的空值"
   ]
  },
  {
   "cell_type": "code",
   "execution_count": 16,
   "metadata": {},
   "outputs": [
    {
     "data": {
      "text/plain": [
       "NoneType"
      ]
     },
     "execution_count": 16,
     "metadata": {},
     "output_type": "execute_result"
    }
   ],
   "source": [
    "type(None)"
   ]
  },
  {
   "cell_type": "markdown",
   "metadata": {},
   "source": [
    "- Python中使用的变量只是指向某个具体的数据对象，可以在程序的使用过程中绑定到不同的对象上，并做出相应的改变"
   ]
  },
  {
   "cell_type": "markdown",
   "metadata": {},
   "source": [
    "- ```len()````方法返回对象(字符、列表、元组等)长度或项目个数"
   ]
  },
  {
   "cell_type": "code",
   "execution_count": 15,
   "metadata": {},
   "outputs": [
    {
     "data": {
      "text/plain": [
       "18"
      ]
     },
     "execution_count": 15,
     "metadata": {},
     "output_type": "execute_result"
    }
   ],
   "source": [
    "str = \"This is a document\"\n",
    "len(str)"
   ]
  },
  {
   "cell_type": "markdown",
   "metadata": {},
   "source": [
    "### 基本数据类型 (列表 & 元组)\n",
    "- list （列表）\n",
    "    1. 有序的集合，可以随时添加和删除其中的元素\n",
    "    2. 使用类似数组的方法访问列表中的元素\n",
    "    3. 列表中的元素可以是不同的数据类型，甚至可以藉此创建多维数组\n",
    "    ------\n",
    "- tuple （元组）\n",
    "    1. 有序元素的集合，一旦初始化后就无法改变（不变的是指向的对象形式）\n",
    "    2. 定义元组的时候，不能为空"
   ]
  },
  {
   "cell_type": "code",
   "execution_count": 13,
   "metadata": {},
   "outputs": [
    {
     "name": "stdout",
     "output_type": "stream",
     "text": [
      "('b', ['apple', 'pear', 1, 2, 'banana'])\n"
     ]
    }
   ],
   "source": [
    "t = ('b',[\"apple\",\"pear\", 1, 2])\n",
    "t[1].append(\"banana\")\n",
    "print(t)"
   ]
  },
  {
   "cell_type": "markdown",
   "metadata": {},
   "source": [
    "### 条件判断语句\n",
    "- ```if elif else``` 判断"
   ]
  },
  {
   "cell_type": "code",
   "execution_count": 14,
   "metadata": {},
   "outputs": [
    {
     "name": "stdout",
     "output_type": "stream",
     "text": [
      "your age is 3\n",
      "teenager\n"
     ]
    }
   ],
   "source": [
    "age = 3\n",
    "if age >= 18:\n",
    "    print(\"your age is\", age)\n",
    "    print(\"adult\")\n",
    "else:\n",
    "    print(\"your age is\", age)\n",
    "    print(\"teenager\")"
   ]
  },
  {
   "cell_type": "markdown",
   "metadata": {},
   "source": [
    "### 循环\n",
    "- for 循环\n",
    "- while 循环"
   ]
  },
  {
   "cell_type": "code",
   "execution_count": 20,
   "metadata": {},
   "outputs": [
    {
     "name": "stdout",
     "output_type": "stream",
     "text": [
      "10\n"
     ]
    }
   ],
   "source": [
    "sum = 0 \n",
    "for i in list(range(5)):\n",
    "    sum += i\n",
    "print(sum)"
   ]
  },
  {
   "cell_type": "code",
   "execution_count": 26,
   "metadata": {},
   "outputs": [
    {
     "name": "stdout",
     "output_type": "stream",
     "text": [
      "10\n"
     ]
    }
   ],
   "source": [
    "sum = 0\n",
    "i = 0\n",
    "while i < 5:\n",
    "    sum += i\n",
    "    i +=1 # 不支持i++运算\n",
    "print(sum)"
   ]
  },
  {
   "cell_type": "markdown",
   "metadata": {},
   "source": [
    "- break可以直接跳出循环内部到整体控制语句的下一个阶段\n",
    "- continue可以直接跳过循环后面部分的语句，进行语法块内部的下一次循环操作"
   ]
  },
  {
   "cell_type": "markdown",
   "metadata": {},
   "source": [
    "### 高级数据对象（字典）\n",
    "- 使用键-值存储数据，有利于提高查找速度"
   ]
  },
  {
   "cell_type": "code",
   "execution_count": 27,
   "metadata": {},
   "outputs": [
    {
     "name": "stdout",
     "output_type": "stream",
     "text": [
      "name Michael age 18\n",
      "name Jane age 17\n",
      "name Hawk age 20\n"
     ]
    }
   ],
   "source": [
    "dict = {'Michael':18, \"Jane\": 17, \"Hawk\":20}\n",
    "for i,j in dict.items(): # dict.items()方法用来获取字典的键值对，形成元组\n",
    "    print(\"name\", i, \"age\",j)\n"
   ]
  },
  {
   "cell_type": "code",
   "execution_count": 29,
   "metadata": {},
   "outputs": [
    {
     "data": {
      "text/plain": [
       "18"
      ]
     },
     "execution_count": 29,
     "metadata": {},
     "output_type": "execute_result"
    }
   ],
   "source": [
    "dict.get(\"Michael\",-1) # 查找字典中是否存在参数名称的键的名称，后面的参数给出查找失败时的返回值"
   ]
  },
  {
   "cell_type": "markdown",
   "metadata": {},
   "source": [
    "### Python中的对象类型比较操作\n",
    "- ```===```用来比较两个对象的值是否相同\n",
    "- ```is```用来比较对象的ID是否相同，即判断变量名是否指向同一个数据对象"
   ]
  },
  {
   "cell_type": "markdown",
   "metadata": {},
   "source": [
    "### 完整参考示例"
   ]
  },
  {
   "cell_type": "code",
   "execution_count": 33,
   "metadata": {},
   "outputs": [
    {
     "name": "stdout",
     "output_type": "stream",
     "text": [
      "Enter a positive integer13\n",
      "The value of 13 is 6227020800\n"
     ]
    }
   ],
   "source": [
    "# This is a single line comment,计算阶乘的小代码\n",
    "\"\"\"\n",
    "    program to find the factorial of a number\n",
    "    This is also a docstring or a document string\n",
    "\"\"\"\n",
    "n = input(\"Enter a positive integer\")\n",
    "f = 1\n",
    "if n is 1 or 0:\n",
    "    exit\n",
    "else: \n",
    "    for i in range(2, int(n)+1): # Python3中input()函数默认读取的内容是字符串，需要显示的修改数据类型\n",
    "        f *= i\n",
    "print(\"The value of {0} is {1}\".format(n,f))"
   ]
  }
 ],
 "metadata": {
  "kernelspec": {
   "display_name": "Python 3",
   "language": "python",
   "name": "python3"
  },
  "language_info": {
   "codemirror_mode": {
    "name": "ipython",
    "version": 3
   },
   "file_extension": ".py",
   "mimetype": "text/x-python",
   "name": "python",
   "nbconvert_exporter": "python",
   "pygments_lexer": "ipython3",
   "version": "3.7.0"
  }
 },
 "nbformat": 4,
 "nbformat_minor": 2
}
